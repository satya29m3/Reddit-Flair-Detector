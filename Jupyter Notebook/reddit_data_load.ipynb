{
 "cells": [
  {
   "cell_type": "markdown",
   "metadata": {},
   "source": [
    "## REDDIT DATA EXTRACTION THROUGH PRAW"
   ]
  },
  {
   "cell_type": "code",
   "execution_count": 3,
   "metadata": {},
   "outputs": [],
   "source": [
    "import praw\n",
    "import pandas as pd\n",
    "import numpy as np\n",
    "from collections import Counter"
   ]
  },
  {
   "cell_type": "markdown",
   "metadata": {},
   "source": [
    "#### ENTER YOUR CREDENTIALS"
   ]
  },
  {
   "cell_type": "code",
   "execution_count": null,
   "metadata": {},
   "outputs": [],
   "source": [
    "# #### ENTER YOUR CREDENTIALS #### #\n",
    "\n",
    "client_id = ''\n",
    "secret = ''\n",
    "username = ''\n",
    "password = ''\n",
    "\n",
    "### NOT NECESSARY TO CHANGE ####\n",
    "\n",
    "user_agent = 'flairdata'"
   ]
  },
  {
   "cell_type": "markdown",
   "metadata": {},
   "source": [
    "#### TYPES OF FLAIR"
   ]
  },
  {
   "cell_type": "code",
   "execution_count": 11,
   "metadata": {},
   "outputs": [],
   "source": [
    "flair = ['Politics','Coronavirus','Non-Political','Policy/Economy','AskIndia',\n",
    " 'Science/Technology','Business/Finance','Scheduled','Food','Photography']"
   ]
  },
  {
   "cell_type": "markdown",
   "metadata": {},
   "source": [
    "#### The following code cells uses praw to collect data from 'r/india' and returns a pandas dataframe  \n",
    "<b>DATA :</b> \n",
    "<ol>\n",
    "    <li>Post title</li>\n",
    "    <li>Post Flair</li>\n",
    "</ol>\n",
    "<b>INTUITION</b> :<br>\n",
    "            <b>title</b> is a short description of the post.It generally contains the information which can be used to classify them based on the <b>flair</b>.<br>\n",
    "            For example : A coronavirus post title would generally contain terms like <b>COVID-19</b> or <b>CORONAVIRUS</b>."
   ]
  },
  {
   "cell_type": "code",
   "execution_count": 12,
   "metadata": {},
   "outputs": [],
   "source": [
    "##### flare name : submission.link_flair_text\n",
    "##### post : submission.title\n",
    "def reddit_data(client_id, client_secret,password, user_agent, username,flair):\n",
    "    reddit = praw.Reddit(client_id =client_id,\n",
    "                        client_secret=client_secret,\n",
    "                        password=password,\n",
    "                        user_agent=user_agent,\n",
    "                        username=username)\n",
    "    topics = []\n",
    "    title = []\n",
    "    subreddit = reddit.subreddit('india')\n",
    "    for i in flair:\n",
    "        posts = subreddit.search(i,limit=150,time_filter='year')\n",
    "\n",
    "        for submission in posts:\n",
    "            if not submission.stickied:\n",
    "                if (submission.link_flair_text in flair):\n",
    "                    flair_data = submission.link_flair_text\n",
    "                    flair_post_data = submission.title\n",
    "\n",
    "                    topics.append(flair_data)\n",
    "                    title.append(flair_post_data)\n",
    "\n",
    "    df = pd.DataFrame(list(zip(topics,title)),columns=['Flair','Post'])\n",
    "    return df"
   ]
  },
  {
   "cell_type": "code",
   "execution_count": 13,
   "metadata": {},
   "outputs": [],
   "source": [
    "### PANDAS DATAFRAME OBJECT WITH COLUMNS FLAIR NAME AND RELATED POST ###\n",
    "\n",
    "data = reddit_data(client_id,secret,password,user_agent,username,flair)"
   ]
  },
  {
   "cell_type": "markdown",
   "metadata": {},
   "source": [
    "#### Saving dataframe to 'datasets folder'"
   ]
  },
  {
   "cell_type": "code",
   "execution_count": 17,
   "metadata": {},
   "outputs": [],
   "source": [
    "### SAVING TRAIN DATA TO CSV FORMAT IN CURRENT DIRECTORY ####\n",
    "data.to_csv('datasets/reddit_data.csv',index=False)"
   ]
  }
 ],
 "metadata": {
  "kernelspec": {
   "display_name": "Python 3",
   "language": "python",
   "name": "python3"
  },
  "language_info": {
   "codemirror_mode": {
    "name": "ipython",
    "version": 3
   },
   "file_extension": ".py",
   "mimetype": "text/x-python",
   "name": "python",
   "nbconvert_exporter": "python",
   "pygments_lexer": "ipython3",
   "version": "3.7.6"
  }
 },
 "nbformat": 4,
 "nbformat_minor": 4
}
