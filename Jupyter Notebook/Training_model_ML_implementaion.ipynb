{
 "cells": [
  {
   "cell_type": "markdown",
   "metadata": {},
   "source": [
    "#### TRAINING DIFFERENT ML MODELS\n",
    "<b> Models chosen :</b>\n",
    "<ul>\n",
    "    <li>Multinomial Naive Bayes Classifier\n",
    "    <li>Random Forest Classifier\n",
    "    <li>Support Vector Classifier\n",
    "    <li>MLP Classifier\n",
    "</ul>"
   ]
  },
  {
   "cell_type": "code",
   "execution_count": 115,
   "metadata": {},
   "outputs": [],
   "source": [
    "import pandas as pd\n",
    "import numpy as np\n",
    "from sklearn.model_selection import train_test_split\n",
    "from sklearn.feature_extraction.text import TfidfVectorizer, CountVectorizer\n",
    "from sklearn.naive_bayes import MultinomialNB\n",
    "from sklearn.ensemble import RandomForestClassifier\n",
    "from sklearn.neural_network import MLPClassifier\n",
    "from sklearn.svm import SVC\n",
    "from sklearn import metrics\n",
    "from sklearn.pipeline import Pipeline\n",
    "import pickle"
   ]
  },
  {
   "cell_type": "markdown",
   "metadata": {},
   "source": [
    "#### LOADING PREPROCESSED DATASET\n",
    "<b>DATA : </b>\n",
    "<ul>\n",
    "    <li>Flair\n",
    "    <li>Post title\n",
    "</ul>"
   ]
  },
  {
   "cell_type": "code",
   "execution_count": 2,
   "metadata": {},
   "outputs": [],
   "source": [
    "#### LOADING OUR PREPROCESSED DATASET ####\n",
    "data = pd.read_csv('datasets/process_reddit_data_stemmed.csv')\n",
    "labels = data['Flair']\n",
    "features = data['Post']"
   ]
  },
  {
   "cell_type": "code",
   "execution_count": 3,
   "metadata": {},
   "outputs": [
    {
     "data": {
      "text/html": [
       "<div>\n",
       "<style scoped>\n",
       "    .dataframe tbody tr th:only-of-type {\n",
       "        vertical-align: middle;\n",
       "    }\n",
       "\n",
       "    .dataframe tbody tr th {\n",
       "        vertical-align: top;\n",
       "    }\n",
       "\n",
       "    .dataframe thead th {\n",
       "        text-align: right;\n",
       "    }\n",
       "</style>\n",
       "<table border=\"1\" class=\"dataframe\">\n",
       "  <thead>\n",
       "    <tr style=\"text-align: right;\">\n",
       "      <th></th>\n",
       "      <th>Flair</th>\n",
       "      <th>Post</th>\n",
       "    </tr>\n",
       "  </thead>\n",
       "  <tbody>\n",
       "    <tr>\n",
       "      <th>0</th>\n",
       "      <td>Politics</td>\n",
       "      <td>pit commun polit parti fuck stupid.</td>\n",
       "    </tr>\n",
       "    <tr>\n",
       "      <th>1</th>\n",
       "      <td>Politics</td>\n",
       "      <td>new polit parti gave full front page ad popula...</td>\n",
       "    </tr>\n",
       "    <tr>\n",
       "      <th>2</th>\n",
       "      <td>Politics</td>\n",
       "      <td>aap woeful respons delhi commun violenc reflec...</td>\n",
       "    </tr>\n",
       "    <tr>\n",
       "      <th>3</th>\n",
       "      <td>Politics</td>\n",
       "      <td>soft hindutva, left revolution, kejriw establi...</td>\n",
       "    </tr>\n",
       "    <tr>\n",
       "      <th>4</th>\n",
       "      <td>Politics</td>\n",
       "      <td>comic current polit scenario</td>\n",
       "    </tr>\n",
       "  </tbody>\n",
       "</table>\n",
       "</div>"
      ],
      "text/plain": [
       "      Flair                                               Post\n",
       "0  Politics                pit commun polit parti fuck stupid.\n",
       "1  Politics  new polit parti gave full front page ad popula...\n",
       "2  Politics  aap woeful respons delhi commun violenc reflec...\n",
       "3  Politics  soft hindutva, left revolution, kejriw establi...\n",
       "4  Politics                       comic current polit scenario"
      ]
     },
     "execution_count": 3,
     "metadata": {},
     "output_type": "execute_result"
    }
   ],
   "source": [
    "data.head()"
   ]
  },
  {
   "cell_type": "markdown",
   "metadata": {},
   "source": [
    "#### THE FOLLOWING CODE CELL CONVERTS LABELS TO NUMERIC VALUES\n",
    "<b>Returns : </b> \n",
    "    <ul>\n",
    "        <li>transformed labels\n",
    "        <li>label_2_id dictionary"
   ]
  },
  {
   "cell_type": "code",
   "execution_count": 4,
   "metadata": {},
   "outputs": [],
   "source": [
    "#### TRANSFORMING LABELS TO NUMBERS #####\n",
    "def label_transformed(labels):\n",
    "    label_dict = dict()\n",
    "    count = 0\n",
    "    for i in labels:\n",
    "        if(i not in label_dict.keys()):\n",
    "            label_dict[i] =count\n",
    "            count+=1\n",
    "\n",
    "    transformed_labels = [label_dict[i] for i in labels]\n",
    "\n",
    "    return transformed_labels, label_dict"
   ]
  },
  {
   "cell_type": "code",
   "execution_count": 5,
   "metadata": {},
   "outputs": [],
   "source": [
    "label_tf, label_dict = label_transformed(labels)"
   ]
  },
  {
   "cell_type": "code",
   "execution_count": 6,
   "metadata": {},
   "outputs": [
    {
     "name": "stdout",
     "output_type": "stream",
     "text": [
      "{'Politics': 0, 'Coronavirus': 1, 'AskIndia': 2, 'Non-Political': 3, 'Policy/Economy': 4, 'Scheduled': 5, 'Business/Finance': 6, 'Science/Technology': 7, 'Food': 8, 'Photography': 9}\n"
     ]
    }
   ],
   "source": [
    "print(label_dict)"
   ]
  },
  {
   "cell_type": "markdown",
   "metadata": {},
   "source": [
    "#### SPLITTING DATASET INTO TRAIN AND TEST SETS"
   ]
  },
  {
   "cell_type": "code",
   "execution_count": 99,
   "metadata": {},
   "outputs": [],
   "source": [
    "#### SPLITTING DATASET #####\n",
    "x_train, x_test, y_train, y_test = train_test_split(features, label_tf, test_size= 0.18, shuffle= True)"
   ]
  },
  {
   "cell_type": "code",
   "execution_count": 26,
   "metadata": {},
   "outputs": [
    {
     "name": "stdout",
     "output_type": "stream",
     "text": [
      " training data has 1170 samples\n",
      " validation data has 257 samples\n"
     ]
    }
   ],
   "source": [
    "print(' training data has {} samples'.format(len(x_train)))\n",
    "print(' validation data has {} samples'.format(len(x_test)))"
   ]
  },
  {
   "cell_type": "markdown",
   "metadata": {},
   "source": [
    "#### A SCORING FUNCTION \n",
    "<b>Input : </b>\n",
    "<ul>\n",
    "    <li> test labels\n",
    "    <li> predicted labels\n",
    "</ul>\n",
    "\n",
    "<b>Prints : </b>\n",
    "<ul>\n",
    "    <li>f1_score : <ol><li>It is really good metric while performing multiclass classification.\n",
    "                   weighted average of precision and recall. <li>macro averaging was used to consider each class into account.</ol></li>\n",
    "    <li>accuracy\n",
    "    <li>precision\n",
    "    <li>recall\n",
    "</ul>"
   ]
  },
  {
   "cell_type": "code",
   "execution_count": 27,
   "metadata": {},
   "outputs": [],
   "source": [
    "##### SCORING FUNCTION ####\n",
    "def scoring(y_test, y_predict):\n",
    "    acc = metrics.accuracy_score(y_test, y_predict)\n",
    "    f1_score = metrics.f1_score(y_test, y_predict, average='macro')\n",
    "    precision = metrics.precision_score(y_test,y_predict,average='macro')\n",
    "    recall = metrics.recall_score(y_test,y_predict,average='macro')\n",
    "    print('the classifier has\\n f1_score: {}\\n accuracy: {}\\n precision:{}\\n recall: {}'.format(f1_score,acc,precision,recall))"
   ]
  },
  {
   "cell_type": "markdown",
   "metadata": {},
   "source": [
    "#### USES MULTINOMIAL NAIVE BAYES CLASSIFIER FOR PREDICTING LABELS"
   ]
  },
  {
   "cell_type": "code",
   "execution_count": 112,
   "metadata": {},
   "outputs": [
    {
     "name": "stdout",
     "output_type": "stream",
     "text": [
      "the classifier has\n",
      " f1_score: 0.6574231625858569\n",
      " accuracy: 0.6536964980544747\n",
      " precision:0.6758762046673813\n",
      " recall: 0.66807696007696\n"
     ]
    }
   ],
   "source": [
    "### MULTINOMIAL NAIVE BAYES #####\n",
    "M_nb = Pipeline([('tfidf',TfidfVectorizer(lowercase=True, min_df=2, ngram_range=(1,2),stop_words='english')),\n",
    "                 ('clf',MultinomialNB(alpha=0.5))])\n",
    "\n",
    "M_nb.fit(x_train,y_train)\n",
    "y_predicted_nb = M_nb.predict(x_test)\n",
    "scoring(y_test,y_predicted_nb)\n",
    "pkl_file = 'ML_models/M_nb_model.pkl'\n",
    "with open(pkl_file,'wb') as f:\n",
    "    pickle.dump(M_nb,f)"
   ]
  },
  {
   "cell_type": "markdown",
   "metadata": {},
   "source": [
    "#### USES RANDOM FOREST CLASSIFIER FOR PREDICTING LABELS"
   ]
  },
  {
   "cell_type": "code",
   "execution_count": 113,
   "metadata": {},
   "outputs": [
    {
     "name": "stdout",
     "output_type": "stream",
     "text": [
      "the classifier has\n",
      " f1_score: 0.6758861327728923\n",
      " accuracy: 0.688715953307393\n",
      " precision:0.6801246207027141\n",
      " recall: 0.6886589706589706\n"
     ]
    }
   ],
   "source": [
    "### RANDOM FOREST PIPELINE #####\n",
    "\n",
    "rf = Pipeline([('tfidf',TfidfVectorizer(lowercase=True, min_df=2, ngram_range=(1,2),stop_words='english')),\n",
    "                 ('clf',RandomForestClassifier(n_estimators=200))])\n",
    "rf.fit(x_train,y_train)\n",
    "y_predicted_rf = rf.predict(x_test)\n",
    "scoring(y_test,y_predicted_rf)\n",
    "pkl_file = 'ML_models/rf_model.pkl'\n",
    "with open(pkl_file,'wb') as f:\n",
    "    pickle.dump(rf,f)"
   ]
  },
  {
   "cell_type": "markdown",
   "metadata": {},
   "source": [
    "#### USES SUPPORT VECTOR CLASSIFIER FOR PREDICTING LABELS"
   ]
  },
  {
   "cell_type": "code",
   "execution_count": 114,
   "metadata": {},
   "outputs": [
    {
     "name": "stdout",
     "output_type": "stream",
     "text": [
      "the classifier has\n",
      " f1_score: 0.6876937240129652\n",
      " accuracy: 0.6848249027237354\n",
      " precision:0.6965751988483386\n",
      " recall: 0.687990860990861\n"
     ]
    }
   ],
   "source": [
    "#### SVM PIPELINE #####\n",
    "\n",
    "svc = Pipeline([('tfidf',TfidfVectorizer(lowercase=True, min_df=2, ngram_range=(1,2),stop_words='english')),\n",
    "                 ('clf',SVC())])\n",
    "svc.fit(x_train,y_train)\n",
    "y_predicted_svc = svc.predict(x_test)\n",
    "scoring(y_test,y_predicted_svc)\n",
    "pkl_file = 'ML_models/svc_model.pkl'\n",
    "with open(pkl_file,'wb') as f:\n",
    "    pickle.dump(svc,f)"
   ]
  },
  {
   "cell_type": "markdown",
   "metadata": {},
   "source": [
    "#### USES MULTI LAYER PERCEPTRON CLASSIFIER FOR PREDICTING LABELS"
   ]
  },
  {
   "cell_type": "code",
   "execution_count": 160,
   "metadata": {},
   "outputs": [
    {
     "name": "stdout",
     "output_type": "stream",
     "text": [
      "the classifier has\n",
      " f1_score: 0.6561505507796792\n",
      " accuracy: 0.6536964980544747\n",
      " precision:0.6624703925350843\n",
      " recall: 0.6565526695526696\n"
     ]
    }
   ],
   "source": [
    "##### MLP CLASSIFIER #####\n",
    "mlp = Pipeline([('tfidf',TfidfVectorizer(lowercase=True, min_df=2, ngram_range=(1,2),stop_words='english')),('mlp',MLPClassifier(hidden_layer_sizes=(64,32),alpha=0.1,random_state=0,max_iter=500))])\n",
    "mlp.fit(x_train,y_train)\n",
    "y_predicted_mlp = mlp.predict(x_test)\n",
    "scoring(y_test,y_predicted_mlp)\n",
    "pkl_file = 'ML_models/mlp_model.pkl'\n",
    "with open(pkl_file,'wb') as f:\n",
    "    pickle.dump(mlp,f)"
   ]
  }
 ],
 "metadata": {
  "kernelspec": {
   "display_name": "Python 3",
   "language": "python",
   "name": "python3"
  },
  "language_info": {
   "codemirror_mode": {
    "name": "ipython",
    "version": 3
   },
   "file_extension": ".py",
   "mimetype": "text/x-python",
   "name": "python",
   "nbconvert_exporter": "python",
   "pygments_lexer": "ipython3",
   "version": "3.7.6"
  }
 },
 "nbformat": 4,
 "nbformat_minor": 4
}
